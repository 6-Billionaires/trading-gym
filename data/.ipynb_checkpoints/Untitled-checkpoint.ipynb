{
 "cells": [
  {
   "cell_type": "code",
   "execution_count": 65,
   "metadata": {
    "collapsed": true
   },
   "outputs": [],
   "source": [
    "import glob\n",
    "import os\n",
    "import pandas as pd\n",
    "import datetime"
   ]
  },
  {
   "cell_type": "code",
   "execution_count": 25,
   "metadata": {},
   "outputs": [],
   "source": [
    "all_files = []\n",
    "\n",
    "for root, dirs, files in os.walk('.'):\n",
    "    for file in files:\n",
    "        p=os.path.join(root,file)\n",
    "        if p.endswith(\".csv\"):\n",
    "            all_files.append(p)"
   ]
  },
  {
   "cell_type": "code",
   "execution_count": 66,
   "metadata": {
    "collapsed": true
   },
   "outputs": [],
   "source": [
    "def str2time(s,d):\n",
    "    year = int(d[:4])\n",
    "    month = int(d[4:6])\n",
    "    day = int(d[6:8])    \n",
    "    hour = int(s[:2])\n",
    "    minute = int(s[3:5])\n",
    "    second = int(s[6:8])\n",
    "    return datetime.datetime(year,month,day,hour,minute,second)"
   ]
  },
  {
   "cell_type": "code",
   "execution_count": 69,
   "metadata": {},
   "outputs": [],
   "source": [
    "for f in all_files:\n",
    "    temp = pd.read_csv(f,index_col=0)\n",
    "    if len(temp.index[0]) == 8:\n",
    "        date = f.split(\"-\")[-2]\n",
    "        temp.index = list(map(lambda x : str2time(x,date),temp.index))\n",
    "        temp.to_csv(f)"
   ]
  },
  {
   "cell_type": "code",
   "execution_count": null,
   "metadata": {
    "collapsed": true
   },
   "outputs": [],
   "source": []
  }
 ],
 "metadata": {
  "kernelspec": {
   "display_name": "Python 3",
   "language": "python",
   "name": "python3"
  },
  "language_info": {
   "codemirror_mode": {
    "name": "ipython",
    "version": 3
   },
   "file_extension": ".py",
   "mimetype": "text/x-python",
   "name": "python",
   "nbconvert_exporter": "python",
   "pygments_lexer": "ipython3",
   "version": "3.6.3"
  }
 },
 "nbformat": 4,
 "nbformat_minor": 2
}
